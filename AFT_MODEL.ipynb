{
 "cells": [
  {
   "cell_type": "code",
   "execution_count": 5,
   "metadata": {},
   "outputs": [],
   "source": [
    "import pandas as pd\n",
    "import numpy as np\n",
    "from sklearn.model_selection import train_test_split\n",
    "from sksurv.util import Surv\n",
    "from sksurv.metrics import cumulative_dynamic_auc\n",
    "from lifelines import WeibullFitter, ExponentialFitter, LogNormalFitter, LogLogisticFitter, LogNormalAFTFitter"
   ]
  },
  {
   "cell_type": "code",
   "execution_count": 6,
   "metadata": {},
   "outputs": [],
   "source": [
    "data = pd.read_csv(\"data_ready_45.csv\")"
   ]
  },
  {
   "cell_type": "code",
   "execution_count": 7,
   "metadata": {},
   "outputs": [],
   "source": [
    "# data[\"AGE_CMV\"] = data[\"AGE\"] * data[\"CMV_STATUS\"]\n",
    "# data[\"VIR_CO_INF\"] = data[\"CMV_STATUS\"] * data[\"EBV_SEROSTATUS\"]\n",
    "# data[\"AGE_BMI_DON\"] = data[\"AGE_DON\"] * data[\"BMI_DON_CALC\"]\n",
    "# data[\"AGE_BMI\"] = data[\"AGE\"] * data[\"BMI_CALC\"]\n",
    "# data[\"DIAB_BMI\"] = data[\"YRS_DIAB\"] * data[\"BMI_CALC\"]"
   ]
  },
  {
   "cell_type": "code",
   "execution_count": 8,
   "metadata": {},
   "outputs": [],
   "source": [
    "data[\"time_frame\"] = data[\"time_frame\"] + 1\n",
    "data[\"time_frame\"] = data[\"time_frame\"] / 12"
   ]
  },
  {
   "cell_type": "code",
   "execution_count": 9,
   "metadata": {},
   "outputs": [],
   "source": [
    "train, test = train_test_split(data, test_size=0.2, stratify=data[\"GRF_STAT_PA\"], random_state=42)"
   ]
  },
  {
   "cell_type": "code",
   "execution_count": 10,
   "metadata": {},
   "outputs": [],
   "source": [
    "y_train = train[[\"time_frame\", \"GRF_STAT_PA\"]]\n",
    "y_real_train = Surv.from_dataframe(\"GRF_STAT_PA\", \"time_frame\", y_train)\n",
    "x_train = train.drop(columns=[\"time_frame\", \"GRF_STAT_PA\"])"
   ]
  },
  {
   "cell_type": "code",
   "execution_count": 11,
   "metadata": {},
   "outputs": [],
   "source": [
    "y = test[[\"time_frame\", \"GRF_STAT_PA\"]]\n",
    "\n",
    "x_test = test.drop(columns=[\"time_frame\", \"GRF_STAT_PA\"], axis=1)"
   ]
  },
  {
   "cell_type": "code",
   "execution_count": 12,
   "metadata": {},
   "outputs": [
    {
     "name": "stdout",
     "output_type": "stream",
     "text": [
      "Selected features: Index(['PERIP_VASC', 'CREAT_TRR', 'AGE_DON', 'DDAVP_DON', 'CMV_DON', 'BUN_DON',\n",
      "       'SGOT_DON', 'SGPT_DON', 'TBILI_DON', 'CLIN_INFECT_DON',\n",
      "       'HIST_OTH_DRUG_DON', 'HGT_CM_DON_CALC', 'WGT_KG_DON_CALC', 'AGE',\n",
      "       'DUCT_MGMT_2', 'PA_PRESERV_TM', 'DIAG_PA_is5001', 'DAYSWAIT_CHRON_PA',\n",
      "       'ORGAN_isKP', 'CMV_IGG', 'EBV_SEROSTATUS', 'CMV_STATUS',\n",
      "       'MED_COND_TRR_is3', 'HGT_CM_CALC', 'WGT_KG_CALC', 'PROTEIN_URINE',\n",
      "       'LIPASE', 'AMYLASE', 'RESUSCIT_DUR', 'INOTROP_SUPPORT_DON', 'YRS_DIAB'],\n",
      "      dtype='object')\n"
     ]
    },
    {
     "data": {
      "text/plain": [
       "<lifelines.LogNormalAFTFitter: fitted with 16908 total observations, 12979 right-censored observations>"
      ]
     },
     "execution_count": 12,
     "metadata": {},
     "output_type": "execute_result"
    }
   ],
   "source": [
    "from sklearn.linear_model import ElasticNetCV\n",
    "\n",
    "# Use ElasticNetCV with cross-validation for feature selection\n",
    "elastic_net = ElasticNetCV(l1_ratio=[0.1, 0.5, 0.7, 0.9, 0.95, 0.99], cv=50).fit(x_train, y_train['time_frame'])\n",
    "\n",
    "# Select features with non-zero coefficients\n",
    "selected_features = x_train.columns[(elastic_net.coef_ != 0)]\n",
    "print(\"Selected features:\", selected_features)\n",
    "\n",
    "# Fit AFT model with selected features\n",
    "aft = LogNormalAFTFitter()\n",
    "features = list(selected_features) + ['time_frame', 'GRF_STAT_PA']\n",
    "aft.fit(train[features], duration_col='time_frame', event_col='GRF_STAT_PA')"
   ]
  },
  {
   "cell_type": "code",
   "execution_count": 13,
   "metadata": {},
   "outputs": [],
   "source": [
    "y_real = Surv.from_dataframe(\"GRF_STAT_PA\", \"time_frame\", y)\n",
    "\n",
    "time_points = np.arange(12, 12*10, 12)\n",
    "\n",
    "preds = aft.predict_cumulative_hazard(df=x_test, times=time_points)\n",
    "\n",
    "auc, mean_auc = cumulative_dynamic_auc(y_real_train, y_real, preds.T, time_points)"
   ]
  },
  {
   "cell_type": "code",
   "execution_count": 14,
   "metadata": {},
   "outputs": [
    {
     "name": "stdout",
     "output_type": "stream",
     "text": [
      "Dynamic AUC values at different time points:\n",
      "Time 12.00: AUC = 0.757\n",
      "Time 24.00: AUC = 0.750\n",
      "Time 36.00: AUC = 0.727\n",
      "Time 48.00: AUC = 0.736\n",
      "Time 60.00: AUC = 0.745\n",
      "Time 72.00: AUC = 0.744\n",
      "Time 84.00: AUC = 0.730\n",
      "Time 96.00: AUC = 0.724\n",
      "Time 108.00: AUC = 0.723\n",
      "\n",
      "Mean Dynamic AUC: 0.738\n"
     ]
    }
   ],
   "source": [
    "print(\"Dynamic AUC values at different time points:\")\n",
    "for t, auc in zip(time_points, auc):\n",
    "    print(f\"Time {t:.2f}: AUC = {auc:.3f}\")\n",
    "\n",
    "print(f\"\\nMean Dynamic AUC: {mean_auc:.3f}\")"
   ]
  },
  {
   "cell_type": "code",
   "execution_count": 15,
   "metadata": {},
   "outputs": [],
   "source": [
    "preds_train = pd.DataFrame(aft.predict_expectation(x_train), columns=[\"AFT\"])\n",
    "preds_test = pd.DataFrame(aft.predict_expectation(x_test), columns=[\"AFT\"])\n",
    "\n",
    "new_train = pd.concat([train[features], preds_train], axis=1)\n",
    "new_test = pd.concat([test[features], preds_test], axis=1)"
   ]
  },
  {
   "cell_type": "code",
   "execution_count": 16,
   "metadata": {},
   "outputs": [],
   "source": [
    "from lifelines import CoxPHFitter\n",
    "from lifelines.utils import concordance_index\n",
    "\n",
    "cox_model = CoxPHFitter(penalizer=0.1).fit(new_train, duration_col='time_frame', event_col='GRF_STAT_PA')"
   ]
  },
  {
   "cell_type": "code",
   "execution_count": 17,
   "metadata": {},
   "outputs": [],
   "source": [
    "preds_cox_train = pd.DataFrame(cox_model.predict_expectation(new_train), columns=[\"COX\"])\n",
    "preds_cox_test = pd.DataFrame(cox_model.predict_expectation(new_test), columns=[\"COX\"])\n",
    "\n",
    "new_cox_train = pd.concat([new_train, preds_cox_train], axis=1)\n",
    "new_cox_test = pd.concat([new_test, preds_cox_test], axis=1)"
   ]
  },
  {
   "cell_type": "code",
   "execution_count": 18,
   "metadata": {},
   "outputs": [],
   "source": [
    "new_cox_train.to_csv(\"train_aft.csv\", index=False)\n",
    "new_cox_test.to_csv(\"test_aft.csv\", index=False)"
   ]
  },
  {
   "cell_type": "code",
   "execution_count": 19,
   "metadata": {},
   "outputs": [
    {
     "name": "stdout",
     "output_type": "stream",
     "text": [
      "\n",
      "Identified 20 numerical variables and 15 binary variables.\n",
      "\n",
      "=== Running MANOVA ===\n",
      "                      Multivariate linear model\n",
      "======================================================================\n",
      "                                                                      \n",
      "----------------------------------------------------------------------\n",
      "       Intercept         Value    Num DF   Den DF     F Value   Pr > F\n",
      "----------------------------------------------------------------------\n",
      "          Wilks' lambda   0.0050 20.0000 21115.0000 209809.5500 0.0000\n",
      "         Pillai's trace   0.9950 20.0000 21115.0000 209809.5500 0.0000\n",
      " Hotelling-Lawley trace 198.7303 20.0000 21115.0000 209809.5500 0.0000\n",
      "    Roy's greatest root 198.7303 20.0000 21115.0000 209809.5500 0.0000\n",
      "----------------------------------------------------------------------\n",
      "                                                                      \n",
      "-----------------------------------------------------------------------\n",
      "           group           Value    Num DF    Den DF    F Value  Pr > F\n",
      "-----------------------------------------------------------------------\n",
      "            Wilks' lambda  0.9992  20.0000  21115.0000   0.7964  0.7211\n",
      "           Pillai's trace  0.0008  20.0000  21115.0000   0.7964  0.7211\n",
      "   Hotelling-Lawley trace  0.0008  20.0000  21115.0000   0.7964  0.7211\n",
      "      Roy's greatest root  0.0008  20.0000  21115.0000   0.7964  0.7211\n",
      "======================================================================\n",
      "\n"
     ]
    }
   ],
   "source": [
    "import pandas as pd\n",
    "import numpy as np\n",
    "from scipy.stats import ttest_ind, chi2_contingency\n",
    "from statsmodels.multivariate.manova import MANOVA\n",
    "\n",
    "# ============================ Load Data ============================\n",
    "# Load training and testing datasets\n",
    "\n",
    "\n",
    "# Ensure both datasets have the same columns\n",
    "assert set(new_cox_train.columns) == set(new_cox_test.columns), \"Train and test columns do not match!\"\n",
    "\n",
    "# Identify numerical and binary (categorical) features\n",
    "num_features = [col for col in new_cox_train.columns if new_cox_train[col].nunique() > 2]  # More than 2 unique values\n",
    "binary_features = [col for col in new_cox_test.columns if new_cox_test[col].nunique() == 2]  # Exactly 2 unique values\n",
    "\n",
    "print(f\"\\nIdentified {len(num_features)} numerical variables and {len(binary_features)} binary variables.\")\n",
    "\n",
    "# ============================ MANOVA (Multivariate Test) ============================\n",
    "print(\"\\n=== Running MANOVA ===\")\n",
    "combined_df = pd.concat([new_cox_train.assign(group=\"train\"), new_cox_test.assign(group=\"test\")])  # Merge for MANOVA\n",
    "formula = \" + \".join(num_features)  # Only numerical variables for MANOVA\n",
    "\n",
    "manova = MANOVA.from_formula(f\"{formula} ~ group\", data=combined_df)\n",
    "print(manova.mv_test())"
   ]
  },
  {
   "cell_type": "code",
   "execution_count": 22,
   "metadata": {},
   "outputs": [
    {
     "name": "stdout",
     "output_type": "stream",
     "text": [
      "\n",
      "=== Univariate Analysis: T-tests for Numerical Variables ===\n",
      "CREAT_TRR: t-stat=-1.190, p-value=0.234\n",
      "AGE_DON: t-stat=0.527, p-value=0.598\n",
      "BUN_DON: t-stat=0.560, p-value=0.576\n",
      "SGOT_DON: t-stat=1.765, p-value=0.078\n",
      "SGPT_DON: t-stat=1.607, p-value=0.108\n",
      "TBILI_DON: t-stat=-0.528, p-value=0.598\n",
      "HGT_CM_DON_CALC: t-stat=-1.325, p-value=0.185\n",
      "WGT_KG_DON_CALC: t-stat=-0.360, p-value=0.719\n",
      "AGE: t-stat=1.467, p-value=0.142\n",
      "PA_PRESERV_TM: t-stat=0.417, p-value=0.677\n",
      "DAYSWAIT_CHRON_PA: t-stat=-0.503, p-value=0.615\n",
      "HGT_CM_CALC: t-stat=-0.546, p-value=0.585\n",
      "WGT_KG_CALC: t-stat=1.163, p-value=0.245\n",
      "LIPASE: t-stat=0.892, p-value=0.373\n",
      "AMYLASE: t-stat=-0.302, p-value=0.762\n",
      "RESUSCIT_DUR: t-stat=-0.337, p-value=0.736\n",
      "YRS_DIAB: t-stat=-0.399, p-value=0.690\n",
      "time_frame: t-stat=0.439, p-value=0.661\n",
      "AFT: t-stat=-0.380, p-value=0.704\n",
      "COX: t-stat=-0.491, p-value=0.624\n",
      "\n",
      "=== Univariate Analysis: Chi-Square Tests for Binary Variables ===\n",
      "PERIP_VASC: Chi2=0.001, p-value=0.972\n",
      "DDAVP_DON: Chi2=2.835, p-value=0.092\n",
      "CMV_DON: Chi2=0.215, p-value=0.643\n",
      "CLIN_INFECT_DON: Chi2=0.162, p-value=0.688\n",
      "HIST_OTH_DRUG_DON: Chi2=0.243, p-value=0.622\n",
      "DUCT_MGMT_2: Chi2=0.644, p-value=0.422\n",
      "DIAG_PA_is5001: Chi2=1.176, p-value=0.278\n",
      "ORGAN_isKP: Chi2=0.225, p-value=0.635\n",
      "CMV_IGG: Chi2=0.050, p-value=0.823\n",
      "EBV_SEROSTATUS: Chi2=0.010, p-value=0.920\n",
      "CMV_STATUS: Chi2=0.203, p-value=0.652\n",
      "MED_COND_TRR_is3: Chi2=0.054, p-value=0.817\n",
      "PROTEIN_URINE: Chi2=0.152, p-value=0.697\n",
      "INOTROP_SUPPORT_DON: Chi2=0.047, p-value=0.828\n",
      "GRF_STAT_PA: Chi2=0.000, p-value=1.000\n"
     ]
    }
   ],
   "source": [
    "print(\"\\n=== Univariate Analysis: T-tests for Numerical Variables ===\")\n",
    "ttest_results = {}\n",
    "for col in num_features:\n",
    "    stat, p = ttest_ind(new_cox_train[col], new_cox_test[col], equal_var=False, nan_policy='omit')\n",
    "    ttest_results[col] = (stat, p)\n",
    "    print(f\"{col}: t-stat={stat:.3f}, p-value={p:.3f}\")\n",
    "\n",
    "# ============================ Univariate Analysis (Binary Variables) ============================\n",
    "print(\"\\n=== Univariate Analysis: Chi-Square Tests for Binary Variables ===\")\n",
    "chi2_results = {}\n",
    "for col in binary_features:\n",
    "    contingency_table = pd.crosstab(combined_df[col], combined_df[\"group\"])\n",
    "    chi2, p, _, _ = chi2_contingency(contingency_table)\n",
    "    chi2_results[col] = (chi2, p)\n",
    "    print(f\"{col}: Chi2={chi2:.3f}, p-value={p:.3f}\")"
   ]
  }
 ],
 "metadata": {
  "kernelspec": {
   "display_name": "Python 3",
   "language": "python",
   "name": "python3"
  },
  "language_info": {
   "codemirror_mode": {
    "name": "ipython",
    "version": 3
   },
   "file_extension": ".py",
   "mimetype": "text/x-python",
   "name": "python",
   "nbconvert_exporter": "python",
   "pygments_lexer": "ipython3",
   "version": "3.11.4"
  }
 },
 "nbformat": 4,
 "nbformat_minor": 2
}
